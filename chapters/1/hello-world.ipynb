{
 "cells": [
  {
   "cell_type": "markdown",
   "metadata": {},
   "source": [
    "Alright, we've installed! Well done, well done!\r\n",
    "\r\n",
    "Lets start of by initiating a project! If you are in a pre-made directory, for example, you ran `mkdir test && cd test` and you want to initiate the project in the `test` directory, type `cargo init`.\r\n",
    "\r\n",
    "If you want cargo to make a directory for you, type `cargo new <project-name>`. For this project, we'll be calling ours `learn-rust`. Lets run the command: `cargo new learn-rust`.\r\n",
    "\r\n",
    "Now, enter the directory... `cd learn-rust`, and open it with the editor of your choice. Here is a base tree of the directory:\r\n",
    "\r\n",
    "```\r\n",
    "learn-rust/\r\n",
    "    src/\r\n",
    "        main.rs\r\n",
    "    target/\r\n",
    "    Cargo.toml\r\n",
    "    Cargo.lock\r\n",
    "    .gitignore\r\n",
    "```\r\n",
    "\r\n",
    "Lets open up the entrypoint for our app, `src/main.rs`. \r\n",
    "\r\n",
    "You'll probably feel lost, without intellisense, or syntax highlighting.. No worries, we have a tool to fix that!\r\n",
    "\r\n",
    "[rust-analyzer](https://github.com/rust-analyzer/rust-analyzer) is a great tool for Rust autocomplete. There is an official VSCode extension you can find, just search for `rust analyzer` in the extensions tab. Once installed, the file will look a lot cleaner.\r\n",
    "\r\n",
    "Lets go over what we have in this file:"
   ]
  },
  {
   "cell_type": "code",
   "execution_count": null,
   "metadata": {},
   "outputs": [],
   "source": [
    "fn main() {\r\n",
    "    println!(\"Hello, world.\");\r\n",
    "}"
   ]
  }
 ],
 "metadata": {
  "kernelspec": {
   "display_name": "Rust",
   "language": "rust",
   "name": "rust"
  },
  "language_info": {
   "name": "rust",
   "version": ""
  },
  "orig_nbformat": 4
 },
 "nbformat": 4,
 "nbformat_minor": 2
}