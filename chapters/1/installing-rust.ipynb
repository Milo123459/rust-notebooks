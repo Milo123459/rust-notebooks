{
 "cells": [
  {
   "cell_type": "markdown",
   "metadata": {},
   "source": [
    "# Welcome!\r\n",
    "Hello, welcome! This is the first page in this long repository. I hope you enjoy this series of notebooks, and hope they help you learn! If you have any questions, concerns, or want me to go over something new, make an issue on the repo [here](https://github.com/Milo123459/rust-notebooks).\r\n",
    "\r\n",
    "## Chapter 1: The rust ecosystem\r\n",
    "\r\n",
    "The rust ecosystem is vast, and rather scary. Lets go over the tools, files, and other important things that are useful to know:\r\n",
    "\r\n",
    "**rustc** - The rust compiler. Usually you don't run this command on it's own, rather **cargo** runs it.\r\n",
    "\r\n",
    "**cargo** - Cargo, the helper for everything Rust. You can build projects using cargo, install dependencies, and even install addons to the Cargo CLI.\r\n",
    "\r\n",
    "**[crates.io](https://crates.io)** - The place where all dependencies are stored. \r\n",
    "\r\n",
    "**Cargo.toml** - A manifest file, containing all information for the project. For example, `version`, `authors` and `dependencies`.\r\n",
    "\r\n",
    "**target** - A directory containing built code of dependencies and your project.\r\n",
    "\r\n",
    "*Something missing? Make an issue and I'll add it!*\r\n",
    "\r\n",
    "\r\n",
    "\r\n",
    "\r\n",
    "\r\n",
    "\r\n"
   ]
  },
  {
   "cell_type": "markdown",
   "metadata": {},
   "source": [
    "# Install Rust\r\n",
    "\r\n",
    "Installing Rust is rather easy, especially with tools like [rustup](https://rustup.rs) that make it as easy as 1 command.\r\n",
    "\r\n",
    "## Using Rustup (Recommended)\r\n",
    "\r\n",
    "Installing Rust using rustup is as easy as a few commands. Lets get started:\r\n",
    "\r\n",
    "Just go to [rustup](https://rustup.rs) and follow the instructions. Once done, type this into your console\r\n",
    "\r\n",
    "```sh\r\n",
    "$ rustup toolchain add stable\r\n",
    "```\r\n",
    "\r\n",
    "This installs the stable version of Rust.\r\n",
    "\r\n",
    "To update, simply type `rustup update`\r\n"
   ]
  },
  {
   "cell_type": "code",
   "execution_count": null,
   "metadata": {},
   "outputs": [],
   "source": [
    "println!(\"Hello, this is a test!\");"
   ]
  }
 ],
 "metadata": {
  "kernelspec": {
   "display_name": "Rust",
   "language": "rust",
   "name": "rust"
  },
  "language_info": {
   "name": "rust",
   "version": ""
  },
  "orig_nbformat": 4
 },
 "nbformat": 4,
 "nbformat_minor": 2
}